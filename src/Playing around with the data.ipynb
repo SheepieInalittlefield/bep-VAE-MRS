{
 "cells": [
  {
   "cell_type": "code",
   "execution_count": null,
   "metadata": {
    "collapsed": true
   },
   "outputs": [],
   "source": [
    "import h5py\n",
    "import numpy as np\n",
    "import matplotlib.pyplot as plt"
   ]
  },
  {
   "cell_type": "code",
   "execution_count": null,
   "outputs": [],
   "source": [
    "import torch\n",
    "import torchvision.datasets as datasets\n",
    "import matplotlib.pyplot as plt\n",
    "import numpy as np\n",
    "import os\n",
    "\n",
    "%matplotlib inline\n",
    "%load_ext autoreload\n",
    "%autoreload 2"
   ],
   "metadata": {
    "collapsed": false
   }
  },
  {
   "cell_type": "code",
   "execution_count": null,
   "outputs": [],
   "source": [
    "mnist_trainset = datasets.MNIST(root='../data', train=True, download=True, transform=None)\n",
    "n_samples = 1000\n",
    "dataset = mnist_trainset.data.reshape(-1, 1, 28, 28)[:n_samples] / 255."
   ],
   "metadata": {
    "collapsed": false
   }
  },
  {
   "cell_type": "code",
   "execution_count": null,
   "outputs": [],
   "source": [
    "print(dataset.shape)"
   ],
   "metadata": {
    "collapsed": false
   }
  },
  {
   "cell_type": "code",
   "execution_count": null,
   "outputs": [],
   "source": [
    "with h5py.File(\"../MRS_data/sample_data.h5\") as hf:\n",
    "    gt_fids = hf[\"ground_truth_fids\"][()] #ground truth free induction decay signal value\n",
    "    ppm = hf[\"ppm\"][()] #ppm vector\n",
    "    t = hf[\"t\"][()] #time\n",
    "gt_spec = np.fft.fftshift(np.fft.ifft(gt_fids,axis=1),axes=1)\n",
    "gt_diff_spec = np.real(gt_spec[:,:,1]-gt_spec[:,:,0])\n",
    "\n",
    "ppm = ppm[0]\n",
    "t = t[0]"
   ],
   "metadata": {
    "collapsed": false
   }
  },
  {
   "cell_type": "code",
   "execution_count": null,
   "outputs": [],
   "source": [
    "transient = 2"
   ],
   "metadata": {
    "collapsed": false
   }
  },
  {
   "cell_type": "code",
   "execution_count": null,
   "outputs": [],
   "source": [
    "print(gt_diff_spec[0].shape)"
   ],
   "metadata": {
    "collapsed": false
   }
  },
  {
   "cell_type": "code",
   "execution_count": null,
   "outputs": [],
   "source": [
    "min_ppm = 2.5\n",
    "max_ppm = 4\n",
    "max_ind = np.amax(np.where(ppm >= min_ppm))\n",
    "min_ind = np.amin(np.where(ppm <= max_ppm))\n",
    "\n",
    "y_crop = gt_diff_spec[transient][min_ind:max_ind]\n",
    "x_crop = gt_diff_spec[transient+1][min_ind:max_ind]\n",
    "y_crop_norm = (y_crop-y_crop.min())/(y_crop.max()-y_crop.min())\n",
    "x_crop_norm = (x_crop-x_crop.min())/(x_crop.max()-x_crop.min())\n",
    "\n",
    "ppm_crop = ppm[min_ind:max_ind]\n",
    "\n",
    "fig,ax = plt.subplots(1,2,figsize=(10,5))\n",
    "mse = np.square(y_crop_norm-x_crop_norm).mean()\n",
    "ax[0].plot(ppm,gt_diff_spec[transient],label=\"ground-truth1\")\n",
    "ax[0].plot(ppm,gt_diff_spec[transient+1],label=\"ground-truth2\")\n",
    "ax[0].invert_xaxis()\n",
    "ax[0].set_xlabel(\"ppm\")\n",
    "ax[0].set_ylim(-1,1)\n",
    "ax[0].vlines([min_ppm,max_ppm],-1,1,colors=\"red\",linestyles=\"--\")\n",
    "ax[0].set_title(\"Ground truth spectrum\")\n",
    "\n",
    "print(f\"MSE: {mse}\")"
   ],
   "metadata": {
    "collapsed": false
   }
  },
  {
   "cell_type": "code",
   "execution_count": null,
   "outputs": [],
   "source": [],
   "metadata": {
    "collapsed": false
   }
  }
 ],
 "metadata": {
  "kernelspec": {
   "display_name": "Python 3",
   "language": "python",
   "name": "python3"
  },
  "language_info": {
   "codemirror_mode": {
    "name": "ipython",
    "version": 2
   },
   "file_extension": ".py",
   "mimetype": "text/x-python",
   "name": "python",
   "nbconvert_exporter": "python",
   "pygments_lexer": "ipython2",
   "version": "2.7.6"
  }
 },
 "nbformat": 4,
 "nbformat_minor": 0
}
