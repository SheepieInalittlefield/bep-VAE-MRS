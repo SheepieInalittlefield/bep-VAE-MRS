{
 "cells": [
  {
   "cell_type": "code",
   "execution_count": 1,
   "metadata": {
    "collapsed": true,
    "ExecuteTime": {
     "end_time": "2023-05-21T21:26:37.895227745Z",
     "start_time": "2023-05-21T21:26:37.859957657Z"
    }
   },
   "outputs": [],
   "source": [
    "%load_ext autoreload\n",
    "%autoreload 2\n"
   ]
  },
  {
   "cell_type": "code",
   "execution_count": 7,
   "outputs": [],
   "source": [
    "#from utilities.hyperparameter import search\n",
    "#from json import loads"
   ],
   "metadata": {
    "collapsed": false,
    "ExecuteTime": {
     "end_time": "2023-05-21T21:26:38.512655600Z",
     "start_time": "2023-05-21T21:26:38.496232175Z"
    }
   }
  },
  {
   "cell_type": "code",
   "execution_count": 150,
   "outputs": [],
   "source": [
    "## let's begin by doing a search through the hyperparameters for a basic VAE\n",
    "config_dict = {\n",
    "    'method':'random',\n",
    "    'n_runs': 3,\n",
    "    'lr': [1e-3, 2e-3, 5e-3, 1e-4, 2e-4, 5e-4, 1e-5, 2e-5, 5e-5],\n",
    "    'batch_size': [16,24,32,40,48,56,64],\n",
    "    'epochs': [10],\n",
    "    'dim': [4,8,12,16,20,24,28,32],\n",
    "}"
   ],
   "metadata": {
    "collapsed": false,
    "ExecuteTime": {
     "end_time": "2023-05-21T21:26:39.106795617Z",
     "start_time": "2023-05-21T21:26:39.090601203Z"
    }
   }
  },
  {
   "cell_type": "code",
   "execution_count": 154,
   "outputs": [],
   "source": [
    "%%capture\n",
    "runs = search(custom_VAE_config, config_dict)"
   ],
   "metadata": {
    "collapsed": false
   }
  },
  {
   "cell_type": "code",
   "execution_count": 9,
   "outputs": [],
   "source": [
    "from json import loads"
   ],
   "metadata": {
    "collapsed": false,
    "ExecuteTime": {
     "end_time": "2023-05-21T21:46:38.897023463Z",
     "start_time": "2023-05-21T21:46:38.865713036Z"
    }
   }
  },
  {
   "cell_type": "code",
   "execution_count": 10,
   "outputs": [
    {
     "ename": "NameError",
     "evalue": "name 'runs' is not defined",
     "output_type": "error",
     "traceback": [
      "\u001B[0;31m---------------------------------------------------------------------------\u001B[0m",
      "\u001B[0;31mNameError\u001B[0m                                 Traceback (most recent call last)",
      "Cell \u001B[0;32mIn[10], line 3\u001B[0m\n\u001B[1;32m      1\u001B[0m \u001B[38;5;28mmin\u001B[39m \u001B[38;5;241m=\u001B[39m [\u001B[38;5;241m1\u001B[39m,\u001B[38;5;241m1\u001B[39m]\n\u001B[1;32m      2\u001B[0m \u001B[38;5;28mmax\u001B[39m \u001B[38;5;241m=\u001B[39m [\u001B[38;5;241m0\u001B[39m,\u001B[38;5;241m0\u001B[39m]\n\u001B[0;32m----> 3\u001B[0m \u001B[38;5;28;01mfor\u001B[39;00m i \u001B[38;5;129;01min\u001B[39;00m \u001B[43mruns\u001B[49m:\n\u001B[1;32m      4\u001B[0m     \u001B[38;5;28;01mif\u001B[39;00m i[\u001B[38;5;241m1\u001B[39m] \u001B[38;5;241m<\u001B[39m \u001B[38;5;28mmin\u001B[39m[\u001B[38;5;241m1\u001B[39m]:\n\u001B[1;32m      5\u001B[0m         \u001B[38;5;28mmin\u001B[39m \u001B[38;5;241m=\u001B[39m i\n",
      "\u001B[0;31mNameError\u001B[0m: name 'runs' is not defined"
     ]
    }
   ],
   "source": [
    "min = [1,1]\n",
    "max = [0,0]\n",
    "for i in runs:\n",
    "    if i[1] < min[1]:\n",
    "        min = i\n",
    "    if i[1] > max[1]:\n",
    "        max = i\n"
   ],
   "metadata": {
    "collapsed": false,
    "ExecuteTime": {
     "end_time": "2023-05-21T21:49:39.283401270Z",
     "start_time": "2023-05-21T21:49:39.218094722Z"
    }
   }
  },
  {
   "cell_type": "code",
   "execution_count": 12,
   "outputs": [
    {
     "name": "stdout",
     "output_type": "stream",
     "text": [
      "[{'lr': 0.002, 'batch_size': 2, 'epochs': 100, 'dim': 64, 'weight_decay': 0.01, 'beta1': 0.92, 'beta2': 0.999, 'trainer': 'base', 'architecture': 'convolutional', 'disc': 'mlp', 'data': 'real', 'output_dir': 'custom_VAE'}, 0.002875936839915321]\n"
     ]
    }
   ],
   "source": [
    "with open('../custom_VAE.txt', 'r') as f:\n",
    "    test = f.read()\n",
    "    test = loads(test)\n",
    "print(test[0])"
   ],
   "metadata": {
    "collapsed": false,
    "ExecuteTime": {
     "end_time": "2023-05-21T23:05:11.885794356Z",
     "start_time": "2023-05-21T23:05:11.861431586Z"
    }
   }
  },
  {
   "cell_type": "code",
   "execution_count": 12,
   "outputs": [],
   "source": [],
   "metadata": {
    "collapsed": false,
    "ExecuteTime": {
     "end_time": "2023-05-21T23:05:49.035351925Z",
     "start_time": "2023-05-21T23:05:49.021807270Z"
    }
   }
  },
  {
   "cell_type": "code",
   "execution_count": 13,
   "outputs": [],
   "source": [
    "min = [1,1]\n",
    "max = [0,0]\n",
    "for i in test:\n",
    "    if i[1] < min[1]:\n",
    "        min = i\n",
    "    if i[1] > max[1]:\n",
    "        max = i\n"
   ],
   "metadata": {
    "collapsed": false,
    "ExecuteTime": {
     "end_time": "2023-05-21T23:06:04.789058910Z",
     "start_time": "2023-05-21T23:06:04.775174175Z"
    }
   }
  },
  {
   "cell_type": "code",
   "execution_count": 18,
   "outputs": [
    {
     "data": {
      "text/plain": "([{'lr': 0.002,\n   'batch_size': 2,\n   'epochs': 100,\n   'dim': 32,\n   'weight_decay': 0.02,\n   'beta1': 0.92,\n   'beta2': 0.999,\n   'trainer': 'base',\n   'architecture': 'convolutional',\n   'disc': 'mlp',\n   'data': 'real',\n   'output_dir': 'custom_VAE'},\n  0.00011150431320442842],\n [{'lr': 0.001,\n   'batch_size': 2,\n   'epochs': 100,\n   'dim': 8,\n   'weight_decay': 0.01,\n   'beta1': 0.9,\n   'beta2': 0.99,\n   'trainer': 'base',\n   'architecture': 'convolutional',\n   'disc': 'mlp',\n   'data': 'real',\n   'output_dir': 'custom_VAE'},\n  0.003744872830408471])"
     },
     "execution_count": 18,
     "metadata": {},
     "output_type": "execute_result"
    }
   ],
   "source": [
    "min, max"
   ],
   "metadata": {
    "collapsed": false
   }
  },
  {
   "cell_type": "code",
   "execution_count": 8,
   "outputs": [],
   "source": [
    "from data import load_mrs_real, load_target"
   ],
   "metadata": {
    "collapsed": false,
    "ExecuteTime": {
     "end_time": "2023-05-21T23:06:08.609419495Z",
     "start_time": "2023-05-21T23:06:08.595499112Z"
    }
   }
  },
  {
   "cell_type": "code",
   "execution_count": 10,
   "outputs": [],
   "source": [
    "train, test, ppm = load_mrs_real()"
   ],
   "metadata": {
    "collapsed": false
   }
  },
  {
   "cell_type": "code",
   "execution_count": 99,
   "outputs": [
    {
     "name": "stdout",
     "output_type": "stream",
     "text": [
      "torch.Size([40, 1, 2048])\n"
     ]
    }
   ],
   "source": [],
   "metadata": {
    "collapsed": false
   }
  },
  {
   "cell_type": "code",
   "execution_count": 11,
   "outputs": [],
   "source": [
    "import matplotlib.pyplot as plt"
   ],
   "metadata": {
    "collapsed": false
   }
  },
  {
   "cell_type": "code",
   "execution_count": 12,
   "outputs": [
    {
     "data": {
      "text/plain": "(tensor(-0.9264, dtype=torch.float64), tensor(0.9407, dtype=torch.float64))"
     },
     "execution_count": 12,
     "metadata": {},
     "output_type": "execute_result"
    }
   ],
   "source": [
    "train.min(),test.max()"
   ],
   "metadata": {
    "collapsed": false
   }
  },
  {
   "cell_type": "code",
   "execution_count": null,
   "outputs": [],
   "source": [],
   "metadata": {
    "collapsed": false
   }
  },
  {
   "cell_type": "code",
   "execution_count": 13,
   "outputs": [
    {
     "data": {
      "text/plain": "<Figure size 640x480 with 1 Axes>",
      "image/png": "[encoded data removed]"
     },
     "metadata": {},
     "output_type": "display_data"
    }
   ],
   "source": [
    "plt.plot(ppm[0], train[1][0]);"
   ],
   "metadata": {
    "collapsed": false
   }
  },
  {
   "cell_type": "code",
   "execution_count": 14,
   "outputs": [],
   "source": [
    "target, ppm = load_target()"
   ],
   "metadata": {
    "collapsed": false
   }
  },
  {
   "cell_type": "code",
   "execution_count": 15,
   "outputs": [
    {
     "data": {
      "text/plain": "<Figure size 640x480 with 1 Axes>",
      "image/png": "[encoded data removed]"
     },
     "metadata": {},
     "output_type": "display_data"
    }
   ],
   "source": [
    "plt.plot(ppm[0], target[0]);"
   ],
   "metadata": {
    "collapsed": false
   }
  }
 ],
 "metadata": {
  "kernelspec": {
   "display_name": "Python 3",
   "language": "python",
   "name": "python3"
  },
  "language_info": {
   "codemirror_mode": {
    "name": "ipython",
    "version": 2
   },
   "file_extension": ".py",
   "mimetype": "text/x-python",
   "name": "python",
   "nbconvert_exporter": "python",
   "pygments_lexer": "ipython2",
   "version": "2.7.6"
  }
 },
 "nbformat": 4,
 "nbformat_minor": 0
}
