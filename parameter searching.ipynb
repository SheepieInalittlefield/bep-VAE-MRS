{
 "cells": [
  {
   "cell_type": "code",
   "execution_count": 148,
   "metadata": {
    "collapsed": true,
    "ExecuteTime": {
     "end_time": "2023-05-21T21:26:37.895227745Z",
     "start_time": "2023-05-21T21:26:37.859957657Z"
    }
   },
   "outputs": [
    {
     "name": "stdout",
     "output_type": "stream",
     "text": [
      "The autoreload extension is already loaded. To reload it, use:\n",
      "  %reload_ext autoreload\n"
     ]
    }
   ],
   "source": [
    "%load_ext autoreload\n",
    "%autoreload 2\n"
   ]
  },
  {
   "cell_type": "code",
   "execution_count": 149,
   "outputs": [],
   "source": [
    "from hyperparameter import search\n",
    "from config import *"
   ],
   "metadata": {
    "collapsed": false,
    "ExecuteTime": {
     "end_time": "2023-05-21T21:26:38.512655600Z",
     "start_time": "2023-05-21T21:26:38.496232175Z"
    }
   }
  },
  {
   "cell_type": "code",
   "execution_count": 150,
   "outputs": [],
   "source": [
    "## let's begin by doing a search through the hyperparameters for a basic VAE\n",
    "config_dict = {\n",
    "    'method':'random',\n",
    "    'n_runs': 3,\n",
    "    'lr': [1e-3, 2e-3, 5e-3, 1e-4, 2e-4, 5e-4, 1e-5, 2e-5, 5e-5],\n",
    "    'batch_size': [16,24,32,40,48,56,64],\n",
    "    'epochs': [10],\n",
    "    'dim': [4,8,12,16,20,24,28,32],\n",
    "}"
   ],
   "metadata": {
    "collapsed": false,
    "ExecuteTime": {
     "end_time": "2023-05-21T21:26:39.106795617Z",
     "start_time": "2023-05-21T21:26:39.090601203Z"
    }
   }
  },
  {
   "cell_type": "code",
   "execution_count": 154,
   "outputs": [],
   "source": [
    "%%capture\n",
    "runs = search(custom_VAE_config, config_dict)"
   ],
   "metadata": {
    "collapsed": false
   }
  },
  {
   "cell_type": "code",
   "execution_count": 2,
   "outputs": [],
   "source": [],
   "metadata": {
    "collapsed": false,
    "ExecuteTime": {
     "end_time": "2023-05-21T21:46:38.897023463Z",
     "start_time": "2023-05-21T21:46:38.865713036Z"
    }
   }
  },
  {
   "cell_type": "code",
   "execution_count": 17,
   "outputs": [],
   "source": [
    "min = [1,1]\n",
    "max = [0,0]\n",
    "for i in runs:\n",
    "    if i[1] < min[1]:\n",
    "        min = i\n",
    "    if i[1] > max[1]:\n",
    "        max = i\n"
   ],
   "metadata": {
    "collapsed": false,
    "ExecuteTime": {
     "end_time": "2023-05-21T21:49:39.283401270Z",
     "start_time": "2023-05-21T21:49:39.218094722Z"
    }
   }
  },
  {
   "cell_type": "code",
   "execution_count": 7,
   "outputs": [
    {
     "name": "stdout",
     "output_type": "stream",
     "text": [
      "[[{'lr': 0.002, 'batch_size': 48, 'epochs': 400, 'dim': 4}, 0.0001292760448150752], [{'lr': 1e-05, 'batch_size': 24, 'epochs': 400, 'dim': 4}, 0.0010698203831693183], [{'lr': 5e-05, 'batch_size': 56, 'epochs': 400, 'dim': 8}, 0.0021006630215953848], [{'lr': 0.002, 'batch_size': 48, 'epochs': 400, 'dim': 20}, 0.0001397986972891203], [{'lr': 0.001, 'batch_size': 48, 'epochs': 400, 'dim': 28}, 0.00014517279572155416], [{'lr': 0.002, 'batch_size': 64, 'epochs': 400, 'dim': 16}, 0.0002208993683009705], [{'lr': 1e-05, 'batch_size': 64, 'epochs': 400, 'dim': 4}, 0.0029929800528432408], [{'lr': 0.0001, 'batch_size': 40, 'epochs': 400, 'dim': 16}, 0.0007233201960595952], [{'lr': 0.0001, 'batch_size': 16, 'epochs': 400, 'dim': 28}, 0.00011824654924660216], [{'lr': 2e-05, 'batch_size': 48, 'epochs': 400, 'dim': 8}, 0.0007548152010554819], [{'lr': 2e-05, 'batch_size': 32, 'epochs': 400, 'dim': 4}, 0.0008937785217685741], [{'lr': 0.005, 'batch_size': 48, 'epochs': 400, 'dim': 32}, 0.00031644049100811283], [{'lr': 2e-05, 'batch_size': 40, 'epochs': 400, 'dim': 4}, 0.0013001853171941851], [{'lr': 1e-05, 'batch_size': 48, 'epochs': 400, 'dim': 28}, 0.006683126054605552], [{'lr': 0.001, 'batch_size': 40, 'epochs': 400, 'dim': 28}, 0.00019716194889481792], [{'lr': 0.005, 'batch_size': 56, 'epochs': 400, 'dim': 28}, 0.00029078139597228306], [{'lr': 0.005, 'batch_size': 64, 'epochs': 400, 'dim': 32}, 0.0004412665299359759], [{'lr': 0.0001, 'batch_size': 16, 'epochs': 400, 'dim': 8}, 0.00012079909331878291], [{'lr': 0.0001, 'batch_size': 48, 'epochs': 400, 'dim': 12}, 0.0004884785424799625], [{'lr': 0.001, 'batch_size': 16, 'epochs': 400, 'dim': 12}, 7.646885789731491e-05]]\n"
     ]
    }
   ],
   "source": [
    "with open('custom_vae_search.txt', 'r') as f:\n",
    "    test = f.read()"
   ],
   "metadata": {
    "collapsed": false,
    "ExecuteTime": {
     "end_time": "2023-05-21T23:05:11.885794356Z",
     "start_time": "2023-05-21T23:05:11.861431586Z"
    }
   }
  },
  {
   "cell_type": "code",
   "execution_count": 10,
   "outputs": [],
   "source": [
    "test = [[{'lr': 0.002, 'batch_size': 48, 'epochs': 400, 'dim': 4}, 0.0001292760448150752], [{'lr': 1e-05, 'batch_size': 24, 'epochs': 400, 'dim': 4}, 0.0010698203831693183], [{'lr': 5e-05, 'batch_size': 56, 'epochs': 400, 'dim': 8}, 0.0021006630215953848], [{'lr': 0.002, 'batch_size': 48, 'epochs': 400, 'dim': 20}, 0.0001397986972891203], [{'lr': 0.001, 'batch_size': 48, 'epochs': 400, 'dim': 28}, 0.00014517279572155416], [{'lr': 0.002, 'batch_size': 64, 'epochs': 400, 'dim': 16}, 0.0002208993683009705], [{'lr': 1e-05, 'batch_size': 64, 'epochs': 400, 'dim': 4}, 0.0029929800528432408], [{'lr': 0.0001, 'batch_size': 40, 'epochs': 400, 'dim': 16}, 0.0007233201960595952], [{'lr': 0.0001, 'batch_size': 16, 'epochs': 400, 'dim': 28}, 0.00011824654924660216], [{'lr': 2e-05, 'batch_size': 48, 'epochs': 400, 'dim': 8}, 0.0007548152010554819], [{'lr': 2e-05, 'batch_size': 32, 'epochs': 400, 'dim': 4}, 0.0008937785217685741], [{'lr': 0.005, 'batch_size': 48, 'epochs': 400, 'dim': 32}, 0.00031644049100811283], [{'lr': 2e-05, 'batch_size': 40, 'epochs': 400, 'dim': 4}, 0.0013001853171941851], [{'lr': 1e-05, 'batch_size': 48, 'epochs': 400, 'dim': 28}, 0.006683126054605552], [{'lr': 0.001, 'batch_size': 40, 'epochs': 400, 'dim': 28}, 0.00019716194889481792], [{'lr': 0.005, 'batch_size': 56, 'epochs': 400, 'dim': 28}, 0.00029078139597228306], [{'lr': 0.005, 'batch_size': 64, 'epochs': 400, 'dim': 32}, 0.0004412665299359759], [{'lr': 0.0001, 'batch_size': 16, 'epochs': 400, 'dim': 8}, 0.00012079909331878291], [{'lr': 0.0001, 'batch_size': 48, 'epochs': 400, 'dim': 12}, 0.0004884785424799625], [{'lr': 0.001, 'batch_size': 16, 'epochs': 400, 'dim': 12}, 7.646885789731491e-05]]"
   ],
   "metadata": {
    "collapsed": false,
    "ExecuteTime": {
     "end_time": "2023-05-21T23:05:49.035351925Z",
     "start_time": "2023-05-21T23:05:49.021807270Z"
    }
   }
  },
  {
   "cell_type": "code",
   "execution_count": 12,
   "outputs": [],
   "source": [
    "min = [1,1]\n",
    "max = [0,0]\n",
    "for i in test:\n",
    "    if i[1] < min[1]:\n",
    "        min = i\n",
    "    if i[1] > max[1]:\n",
    "        max = i\n"
   ],
   "metadata": {
    "collapsed": false,
    "ExecuteTime": {
     "end_time": "2023-05-21T23:06:04.789058910Z",
     "start_time": "2023-05-21T23:06:04.775174175Z"
    }
   }
  },
  {
   "cell_type": "code",
   "execution_count": 13,
   "outputs": [
    {
     "data": {
      "text/plain": "([{'lr': 0.001, 'batch_size': 16, 'epochs': 400, 'dim': 12},\n  7.646885789731491e-05],\n [{'lr': 1e-05, 'batch_size': 48, 'epochs': 400, 'dim': 28},\n  0.006683126054605552])"
     },
     "execution_count": 13,
     "metadata": {},
     "output_type": "execute_result"
    }
   ],
   "source": [
    "min,max"
   ],
   "metadata": {
    "collapsed": false,
    "ExecuteTime": {
     "end_time": "2023-05-21T23:06:08.609419495Z",
     "start_time": "2023-05-21T23:06:08.595499112Z"
    }
   }
  }
 ],
 "metadata": {
  "kernelspec": {
   "display_name": "Python 3",
   "language": "python",
   "name": "python3"
  },
  "language_info": {
   "codemirror_mode": {
    "name": "ipython",
    "version": 2
   },
   "file_extension": ".py",
   "mimetype": "text/x-python",
   "name": "python",
   "nbconvert_exporter": "python",
   "pygments_lexer": "ipython2",
   "version": "2.7.6"
  }
 },
 "nbformat": 4,
 "nbformat_minor": 0
}
