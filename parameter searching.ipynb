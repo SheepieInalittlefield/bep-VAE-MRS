{
 "cells": [
  {
   "cell_type": "code",
   "execution_count": 1,
   "metadata": {
    "collapsed": true,
    "ExecuteTime": {
     "end_time": "2023-05-21T21:26:37.895227745Z",
     "start_time": "2023-05-21T21:26:37.859957657Z"
    }
   },
   "outputs": [],
   "source": [
    "%load_ext autoreload\n",
    "%autoreload 2\n"
   ]
  },
  {
   "cell_type": "code",
   "execution_count": 6,
   "outputs": [],
   "source": [
    "from hyperparameter import search\n",
    "from json import loads"
   ],
   "metadata": {
    "collapsed": false,
    "ExecuteTime": {
     "end_time": "2023-05-21T21:26:38.512655600Z",
     "start_time": "2023-05-21T21:26:38.496232175Z"
    }
   }
  },
  {
   "cell_type": "code",
   "execution_count": 150,
   "outputs": [],
   "source": [
    "## let's begin by doing a search through the hyperparameters for a basic VAE\n",
    "config_dict = {\n",
    "    'method':'random',\n",
    "    'n_runs': 3,\n",
    "    'lr': [1e-3, 2e-3, 5e-3, 1e-4, 2e-4, 5e-4, 1e-5, 2e-5, 5e-5],\n",
    "    'batch_size': [16,24,32,40,48,56,64],\n",
    "    'epochs': [10],\n",
    "    'dim': [4,8,12,16,20,24,28,32],\n",
    "}"
   ],
   "metadata": {
    "collapsed": false,
    "ExecuteTime": {
     "end_time": "2023-05-21T21:26:39.106795617Z",
     "start_time": "2023-05-21T21:26:39.090601203Z"
    }
   }
  },
  {
   "cell_type": "code",
   "execution_count": 154,
   "outputs": [],
   "source": [
    "%%capture\n",
    "runs = search(custom_VAE_config, config_dict)"
   ],
   "metadata": {
    "collapsed": false
   }
  },
  {
   "cell_type": "code",
   "execution_count": 2,
   "outputs": [],
   "source": [],
   "metadata": {
    "collapsed": false,
    "ExecuteTime": {
     "end_time": "2023-05-21T21:46:38.897023463Z",
     "start_time": "2023-05-21T21:46:38.865713036Z"
    }
   }
  },
  {
   "cell_type": "code",
   "execution_count": 17,
   "outputs": [],
   "source": [
    "min = [1,1]\n",
    "max = [0,0]\n",
    "for i in runs:\n",
    "    if i[1] < min[1]:\n",
    "        min = i\n",
    "    if i[1] > max[1]:\n",
    "        max = i\n"
   ],
   "metadata": {
    "collapsed": false,
    "ExecuteTime": {
     "end_time": "2023-05-21T21:49:39.283401270Z",
     "start_time": "2023-05-21T21:49:39.218094722Z"
    }
   }
  },
  {
   "cell_type": "code",
   "execution_count": 14,
   "outputs": [
    {
     "name": "stdout",
     "output_type": "stream",
     "text": [
      "[[{'lr': 0.002, 'batch_size': 64, 'epochs': 20, 'dim': 4, 'trainer': 'base', 'architecture': 'convolutional', 'disc': 'mlp', 'data': 'real', 'output_dir': 'custom_VAE'}, 0.002033453681900734]]\n"
     ]
    }
   ],
   "source": [
    "with open('custom_vae_search.txt', 'r') as f:\n",
    "    test = f.read()\n",
    "    test = loads(test)\n",
    "print(test)"
   ],
   "metadata": {
    "collapsed": false,
    "ExecuteTime": {
     "end_time": "2023-05-21T23:05:11.885794356Z",
     "start_time": "2023-05-21T23:05:11.861431586Z"
    }
   }
  },
  {
   "cell_type": "code",
   "execution_count": 10,
   "outputs": [],
   "source": [
    "test = [[{'lr': 0.002, 'batch_size': 48, 'epochs': 400, 'dim': 4}, 0.0001292760448150752], [{'lr': 1e-05, 'batch_size': 24, 'epochs': 400, 'dim': 4}, 0.0010698203831693183], [{'lr': 5e-05, 'batch_size': 56, 'epochs': 400, 'dim': 8}, 0.0021006630215953848], [{'lr': 0.002, 'batch_size': 48, 'epochs': 400, 'dim': 20}, 0.0001397986972891203], [{'lr': 0.001, 'batch_size': 48, 'epochs': 400, 'dim': 28}, 0.00014517279572155416], [{'lr': 0.002, 'batch_size': 64, 'epochs': 400, 'dim': 16}, 0.0002208993683009705], [{'lr': 1e-05, 'batch_size': 64, 'epochs': 400, 'dim': 4}, 0.0029929800528432408], [{'lr': 0.0001, 'batch_size': 40, 'epochs': 400, 'dim': 16}, 0.0007233201960595952], [{'lr': 0.0001, 'batch_size': 16, 'epochs': 400, 'dim': 28}, 0.00011824654924660216], [{'lr': 2e-05, 'batch_size': 48, 'epochs': 400, 'dim': 8}, 0.0007548152010554819], [{'lr': 2e-05, 'batch_size': 32, 'epochs': 400, 'dim': 4}, 0.0008937785217685741], [{'lr': 0.005, 'batch_size': 48, 'epochs': 400, 'dim': 32}, 0.00031644049100811283], [{'lr': 2e-05, 'batch_size': 40, 'epochs': 400, 'dim': 4}, 0.0013001853171941851], [{'lr': 1e-05, 'batch_size': 48, 'epochs': 400, 'dim': 28}, 0.006683126054605552], [{'lr': 0.001, 'batch_size': 40, 'epochs': 400, 'dim': 28}, 0.00019716194889481792], [{'lr': 0.005, 'batch_size': 56, 'epochs': 400, 'dim': 28}, 0.00029078139597228306], [{'lr': 0.005, 'batch_size': 64, 'epochs': 400, 'dim': 32}, 0.0004412665299359759], [{'lr': 0.0001, 'batch_size': 16, 'epochs': 400, 'dim': 8}, 0.00012079909331878291], [{'lr': 0.0001, 'batch_size': 48, 'epochs': 400, 'dim': 12}, 0.0004884785424799625], [{'lr': 0.001, 'batch_size': 16, 'epochs': 400, 'dim': 12}, 7.646885789731491e-05]]"
   ],
   "metadata": {
    "collapsed": false,
    "ExecuteTime": {
     "end_time": "2023-05-21T23:05:49.035351925Z",
     "start_time": "2023-05-21T23:05:49.021807270Z"
    }
   }
  },
  {
   "cell_type": "code",
   "execution_count": 15,
   "outputs": [],
   "source": [
    "min = [1,1]\n",
    "max = [0,0]\n",
    "for i in test:\n",
    "    if i[1] < min[1]:\n",
    "        min = i\n",
    "    if i[1] > max[1]:\n",
    "        max = i\n"
   ],
   "metadata": {
    "collapsed": false,
    "ExecuteTime": {
     "end_time": "2023-05-21T23:06:04.789058910Z",
     "start_time": "2023-05-21T23:06:04.775174175Z"
    }
   }
  },
  {
   "cell_type": "code",
   "execution_count": 107,
   "outputs": [],
   "source": [
    "from data import load_mrs_real, load_target"
   ],
   "metadata": {
    "collapsed": false,
    "ExecuteTime": {
     "end_time": "2023-05-21T23:06:08.609419495Z",
     "start_time": "2023-05-21T23:06:08.595499112Z"
    }
   }
  },
  {
   "cell_type": "code",
   "execution_count": 137,
   "outputs": [],
   "source": [
    "train, test, ppm = load_mrs_real()"
   ],
   "metadata": {
    "collapsed": false
   }
  },
  {
   "cell_type": "code",
   "execution_count": 99,
   "outputs": [
    {
     "name": "stdout",
     "output_type": "stream",
     "text": [
      "torch.Size([40, 1, 2048])\n"
     ]
    }
   ],
   "source": [],
   "metadata": {
    "collapsed": false
   }
  },
  {
   "cell_type": "code",
   "execution_count": 101,
   "outputs": [],
   "source": [
    "import matplotlib.pyplot as plt"
   ],
   "metadata": {
    "collapsed": false
   }
  },
  {
   "cell_type": "code",
   "execution_count": 138,
   "outputs": [
    {
     "data": {
      "text/plain": "(tensor(-0.3833, dtype=torch.float64), tensor(0.3279, dtype=torch.float64))"
     },
     "execution_count": 138,
     "metadata": {},
     "output_type": "execute_result"
    }
   ],
   "source": [
    "train.min(),test.max()"
   ],
   "metadata": {
    "collapsed": false
   }
  },
  {
   "cell_type": "code",
   "execution_count": null,
   "outputs": [],
   "source": [],
   "metadata": {
    "collapsed": false
   }
  },
  {
   "cell_type": "code",
   "execution_count": 140,
   "outputs": [
    {
     "data": {
      "text/plain": "<Figure size 640x480 with 1 Axes>",
      "image/png": "[encoded data removed]"
     },
     "metadata": {},
     "output_type": "display_data"
    }
   ],
   "source": [
    "plt.plot(ppm[0], train[1][0]);"
   ],
   "metadata": {
    "collapsed": false
   }
  },
  {
   "cell_type": "code",
   "execution_count": 113,
   "outputs": [],
   "source": [
    "target, ppm = load_target()"
   ],
   "metadata": {
    "collapsed": false
   }
  },
  {
   "cell_type": "code",
   "execution_count": 114,
   "outputs": [
    {
     "data": {
      "text/plain": "<Figure size 640x480 with 1 Axes>",
      "image/png": "[encoded data removed]"
     },
     "metadata": {},
     "output_type": "display_data"
    }
   ],
   "source": [
    "plt.plot(ppm[0], target[0]);"
   ],
   "metadata": {
    "collapsed": false
   }
  }
 ],
 "metadata": {
  "kernelspec": {
   "display_name": "Python 3",
   "language": "python",
   "name": "python3"
  },
  "language_info": {
   "codemirror_mode": {
    "name": "ipython",
    "version": 2
   },
   "file_extension": ".py",
   "mimetype": "text/x-python",
   "name": "python",
   "nbconvert_exporter": "python",
   "pygments_lexer": "ipython2",
   "version": "2.7.6"
  }
 },
 "nbformat": 4,
 "nbformat_minor": 0
}
