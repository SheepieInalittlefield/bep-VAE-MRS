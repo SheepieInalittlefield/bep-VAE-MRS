{
 "cells": [
  {
   "cell_type": "code",
   "execution_count": 30,
   "metadata": {
    "collapsed": true,
    "ExecuteTime": {
     "end_time": "2023-05-16T20:19:33.549214750Z",
     "start_time": "2023-05-16T20:19:32.589687435Z"
    }
   },
   "outputs": [
    {
     "data": {
      "text/plain": "True"
     },
     "execution_count": 30,
     "metadata": {},
     "output_type": "execute_result"
    }
   ],
   "source": [
    "import wandb\n",
    "wandb.login()"
   ]
  },
  {
   "cell_type": "code",
   "execution_count": 31,
   "outputs": [],
   "source": [
    "sweep_config = {\n",
    "    'method': 'random',\n",
    "    'name': 'sweep',\n",
    "}"
   ],
   "metadata": {
    "collapsed": false,
    "ExecuteTime": {
     "end_time": "2023-05-16T20:19:33.653066363Z",
     "start_time": "2023-05-16T20:19:33.636145099Z"
    }
   }
  },
  {
   "cell_type": "code",
   "execution_count": 32,
   "outputs": [],
   "source": [
    "metric = {\n",
    "    'name': 'epoch_loss',\n",
    "    'goal': 'minimize',\n",
    "}\n",
    "sweep_config['metric'] = metric"
   ],
   "metadata": {
    "collapsed": false,
    "ExecuteTime": {
     "end_time": "2023-05-16T20:19:33.984354454Z",
     "start_time": "2023-05-16T20:19:33.969642781Z"
    }
   }
  },
  {
   "cell_type": "code",
   "execution_count": 34,
   "outputs": [],
   "source": [
    "parameters_dict= {\n",
    "    'optimizer': {\n",
    "        'values': ['AdamW', 'SGD']\n",
    "    },\n",
    "    'learning_rate': {\n",
    "        # a flat distribution between 0 and 0.1\n",
    "        'distribution': 'uniform',\n",
    "        'min': 0,\n",
    "        'max': 0.1\n",
    "    },\n",
    "        'batch_size': {\n",
    "        # integers between 16 and 128\n",
    "        # with evenly-distributed logarithms\n",
    "        'distribution': 'q_log_uniform_values',\n",
    "        'q': 4,\n",
    "        'min': 16,\n",
    "        'max': 128,\n",
    "    },\n",
    "    'latent_dim': {\n",
    "        'values': [16,24,32]\n",
    "    }\n",
    "}\n",
    "sweep_config[\"parameters\"] = parameters_dict"
   ],
   "metadata": {
    "collapsed": false,
    "ExecuteTime": {
     "end_time": "2023-05-16T20:20:29.375806054Z",
     "start_time": "2023-05-16T20:20:29.364386822Z"
    }
   }
  },
  {
   "cell_type": "code",
   "execution_count": 41,
   "outputs": [
    {
     "name": "stdout",
     "output_type": "stream",
     "text": [
      "Create sweep with ID: qe8sdmcn\n",
      "Sweep URL: https://wandb.ai/bepjustin-mia/bep-mia/sweeps/qe8sdmcn\n"
     ]
    }
   ],
   "source": [
    "sweep_id = wandb.sweep(sweep_config, project=\"bep-mia\")"
   ],
   "metadata": {
    "collapsed": false,
    "ExecuteTime": {
     "end_time": "2023-05-16T20:23:07.702862946Z",
     "start_time": "2023-05-16T20:23:05.493121050Z"
    }
   }
  },
  {
   "cell_type": "code",
   "execution_count": 42,
   "outputs": [],
   "source": [
    "from data import load_mrs\n",
    "from config import wandb_config_VAE\n",
    "from training import get_model, get_callback, get_pipeline, train\n",
    "from models import MRS_encoder, MRS_decoder\n",
    "from visualization import sample_model, show_generated_data\n",
    "import wandb"
   ],
   "metadata": {
    "collapsed": false,
    "ExecuteTime": {
     "end_time": "2023-05-16T20:23:11.017328241Z",
     "start_time": "2023-05-16T20:23:10.978957918Z"
    }
   }
  },
  {
   "cell_type": "code",
   "execution_count": 43,
   "outputs": [],
   "source": [
    "def wandb_train(wandb_config=None):\n",
    "    with wandb.init(config=wandb_config):\n",
    "        train_dataset, eval_dataset, ppm = load_mrs()\n",
    "\n",
    "        wandb_config = wandb.config\n",
    "        training_config, model_config = wandb_config_VAE(wandb_config)\n",
    "\n",
    "        wandb_callback = get_callback(training_config, model_config)\n",
    "        encoder = MRS_encoder(model_config)\n",
    "        decoder = MRS_decoder(model_config)\n",
    "\n",
    "        model = get_model(model_config, encoder, decoder)\n",
    "\n",
    "        pipeline = get_pipeline(model, training_config)\n",
    "\n",
    "        trained_model = train('wandb_sweeps', pipeline, train_dataset, eval_dataset, wandb_callback)"
   ],
   "metadata": {
    "collapsed": false,
    "ExecuteTime": {
     "end_time": "2023-05-16T20:23:11.955149613Z",
     "start_time": "2023-05-16T20:23:11.943565639Z"
    }
   }
  },
  {
   "cell_type": "code",
   "execution_count": 46,
   "outputs": [
    {
     "name": "stderr",
     "output_type": "stream",
     "text": [
      "\u001B[34m\u001B[1mwandb\u001B[0m: Ctrl + C detected. Stopping sweep.\n"
     ]
    }
   ],
   "source": [
    "wandb.agent(sweep_id, wandb_train, count=1)"
   ],
   "metadata": {
    "collapsed": false,
    "ExecuteTime": {
     "end_time": "2023-05-16T20:28:26.844194570Z",
     "start_time": "2023-05-16T20:27:12.367870463Z"
    }
   }
  }
 ],
 "metadata": {
  "kernelspec": {
   "display_name": "Python 3",
   "language": "python",
   "name": "python3"
  },
  "language_info": {
   "codemirror_mode": {
    "name": "ipython",
    "version": 2
   },
   "file_extension": ".py",
   "mimetype": "text/x-python",
   "name": "python",
   "nbconvert_exporter": "python",
   "pygments_lexer": "ipython2",
   "version": "2.7.6"
  }
 },
 "nbformat": 4,
 "nbformat_minor": 0
}
